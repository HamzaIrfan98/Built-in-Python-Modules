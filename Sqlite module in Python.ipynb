{
 "cells": [
  {
   "cell_type": "code",
   "execution_count": 26,
   "metadata": {},
   "outputs": [],
   "source": [
    "import sqlite3\n",
    "from sqlite3 import Error"
   ]
  },
  {
   "cell_type": "code",
   "execution_count": 27,
   "metadata": {},
   "outputs": [],
   "source": [
    "def create_connection(db_file):\n",
    "    \"\"\"create a database connection to the SQLite database specified by db_file\n",
    "    :param db_file: database file\n",
    "    :return: Connection Object or None\n",
    "    \"\"\"\n",
    "    conn = None\n",
    "    try:\n",
    "        conn = sqlite3.connect(db_file)\n",
    "        print(\"The SQLite connection is connected.\")\n",
    "        return conn\n",
    "    except Error as e:\n",
    "        print(e)\n",
    "    \n",
    "    return conn"
   ]
  },
  {
   "cell_type": "code",
   "execution_count": 28,
   "metadata": {},
   "outputs": [],
   "source": [
    "def close_connection(conn):\n",
    "    \"\"\"close database connection to the SQLite database specified by db_file\n",
    "    :param conn: db connection object\n",
    "    :return:\n",
    "    \"\"\"\n",
    "    if(conn):\n",
    "        conn.close()\n",
    "        print(\"SQLite connection is Closed\")"
   ]
  },
  {
   "cell_type": "code",
   "execution_count": 29,
   "metadata": {},
   "outputs": [],
   "source": [
    "def create_table_in_db(conn, create_table_sql):\n",
    "    \"\"\"Create a table from create_table_sql statement\n",
    "    :param conn: Connection Object\n",
    "    :param create_table_sql: a CREATE TABLE statement\n",
    "    :return:\n",
    "    \"\"\"\n",
    "    try:\n",
    "        c = conn.cursor()\n",
    "        c.execute(create_table_sql)\n",
    "    except Error as e:\n",
    "        print(e)"
   ]
  },
  {
   "cell_type": "code",
   "execution_count": 30,
   "metadata": {},
   "outputs": [],
   "source": [
    "def create_table():\n",
    "    database = r\"C:\\Users\\hamza\\Desktop\\CS\\database.db\"\n",
    "    sql_create_projects_table = \"\"\"CREATE TABLE IF NOT EXISTS STUDENTS (\n",
    "    id integer PRIMARY KEY,\n",
    "    name text NOT NULL,\n",
    "    gpa integer,\n",
    "    admission_date text\n",
    "    );\n",
    "    \"\"\"\n",
    "    #Create a database connection\n",
    "    conn = create_connection(database)\n",
    "    \n",
    "    if conn is not None:\n",
    "        create_table_in_db(conn, sql_create_projects_table)\n",
    "    else:\n",
    "        print(\"Error! Cannot create database connection\")\n",
    "        \n",
    "    close_connection(conn)"
   ]
  },
  {
   "cell_type": "code",
   "execution_count": 31,
   "metadata": {},
   "outputs": [
    {
     "name": "stdout",
     "output_type": "stream",
     "text": [
      "The SQLite connection is connected.\n",
      "SQLite connection is Closed\n"
     ]
    }
   ],
   "source": [
    "create_table()"
   ]
  },
  {
   "cell_type": "code",
   "execution_count": 32,
   "metadata": {},
   "outputs": [],
   "source": [
    "def add_student(conn, student):\n",
    "    \"\"\"Create a new student entry into the student table\n",
    "    :param conn:\n",
    "    :param student:\n",
    "    :return: student id\n",
    "    \"\"\"\n",
    "    \n",
    "    sql = \"\"\"INSERT INTO STUDENTS(name, gpa, admission_date)\n",
    "    VALUES(?, ?, ?)\n",
    "    \"\"\"\n",
    "    \n",
    "    cur = conn.cursor()\n",
    "    cur.execute(sql, student)\n",
    "    \n",
    "    return cur.lastrowid"
   ]
  },
  {
   "cell_type": "code",
   "execution_count": 41,
   "metadata": {},
   "outputs": [
    {
     "name": "stdout",
     "output_type": "stream",
     "text": [
      "The SQLite connection is connected.\n",
      "The Student ID is:  4\n",
      "SQLite connection is Closed\n"
     ]
    }
   ],
   "source": [
    "database = r\"C:\\Users\\hamza\\Desktop\\CS\\database.db\"\n",
    "    \n",
    "conn = create_connection(database)\n",
    "with conn:\n",
    "    student = ('Rohab', 3.0, '2017-8-15');\n",
    "    std_id = add_student(conn, student)\n",
    "        \n",
    "print('The Student ID is: ', std_id)\n",
    "close_connection(conn)"
   ]
  },
  {
   "cell_type": "code",
   "execution_count": 42,
   "metadata": {},
   "outputs": [
    {
     "name": "stdout",
     "output_type": "stream",
     "text": [
      "The SQLite connection is connected.\n"
     ]
    }
   ],
   "source": [
    "database = r\"C:\\Users\\hamza\\Desktop\\CS\\database.db\"\n",
    "conn = create_connection(database)\n",
    "\n",
    "sql_string = \"SELECT * FROM STUDENTS\"\n",
    "curr = conn.cursor()\n",
    "curr.execute(sql_string)\n",
    "records = curr.fetchall()"
   ]
  },
  {
   "cell_type": "code",
   "execution_count": 43,
   "metadata": {},
   "outputs": [
    {
     "data": {
      "text/plain": [
       "[(1, 'Abubakr', 4, '2017-8-15'),\n",
       " (2, 'Tabish', 3.9, '2017-8-15'),\n",
       " (3, 'Hamza', 3.9, '2017-8-15'),\n",
       " (4, 'Rohab', 3, '2017-8-15')]"
      ]
     },
     "execution_count": 43,
     "metadata": {},
     "output_type": "execute_result"
    }
   ],
   "source": [
    "records"
   ]
  },
  {
   "cell_type": "code",
   "execution_count": 44,
   "metadata": {},
   "outputs": [
    {
     "name": "stdout",
     "output_type": "stream",
     "text": [
      "SQLite connection is Closed\n"
     ]
    }
   ],
   "source": [
    "curr.close()\n",
    "close_connection(conn)"
   ]
  },
  {
   "cell_type": "code",
   "execution_count": null,
   "metadata": {},
   "outputs": [],
   "source": []
  }
 ],
 "metadata": {
  "kernelspec": {
   "display_name": "Python 3",
   "language": "python",
   "name": "python3"
  },
  "language_info": {
   "codemirror_mode": {
    "name": "ipython",
    "version": 3
   },
   "file_extension": ".py",
   "mimetype": "text/x-python",
   "name": "python",
   "nbconvert_exporter": "python",
   "pygments_lexer": "ipython3",
   "version": "3.8.5"
  }
 },
 "nbformat": 4,
 "nbformat_minor": 4
}
